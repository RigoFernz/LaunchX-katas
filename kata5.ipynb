{
 "cells": [
  {
   "cell_type": "markdown",
   "metadata": {},
   "source": [
    "### Ejercicio1 - Utilizar operadores aritméticos\n"
   ]
  },
  {
   "cell_type": "code",
   "execution_count": 3,
   "metadata": {},
   "outputs": [
    {
     "name": "stdout",
     "output_type": "stream",
     "text": [
      "-628949330\n",
      "La distancia entra los planetas en Kilometros es 628949330\n",
      "La distancia entra los planetas en Millas es 390577534\n"
     ]
    }
   ],
   "source": [
    "# Crear variables para almacenar las dos distancias\n",
    "# ¡Asegúrate de quitar las comas!\n",
    "Tierra = 149597870 \n",
    "Jupiter = 778547200\n",
    "\n",
    "# Calcular la distancia entre planetas\n",
    "distancia_km = Tierra - Jupiter\n",
    "print(distancia_km)\n",
    "\n",
    "distancia_millas = distancia_km*0.621\n",
    "print(\"La distancia entra los planetas en Kilometros es\", round(abs(distancia_km)))\n",
    "print(\"La distancia entra los planetas en Millas es\", round(abs(distancia_millas)))\n"
   ]
  },
  {
   "cell_type": "markdown",
   "metadata": {},
   "source": [
    "### Ejercicio 2: convierte cadenas en números y usa valores absolutos\n"
   ]
  },
  {
   "cell_type": "code",
   "execution_count": 13,
   "metadata": {},
   "outputs": [
    {
     "name": "stdout",
     "output_type": "stream",
     "text": [
      "-629000000\n",
      "390609000.0\n"
     ]
    }
   ],
   "source": [
    "# Almacenar las entradas del usuario\n",
    "#Pista: variable = input(\"¿Cuál es tu nombre?\")\n",
    "tierra = input('149600000')\n",
    "jupiter = input('778600000')\n",
    "\n",
    "\n",
    "# Convierte las cadenas de ambos planetas a números enteros\n",
    "tierra = int(tierra)\n",
    "jupiter = int(jupiter)\n",
    "\n",
    "\n",
    "# Realizar el cálculo y determinar el valor absoluto\n",
    "distancia_km = tierra - jupiter\n",
    "print(distancia_km)\n",
    "\n",
    "# Convertir de KM a Millas\n",
    "distancia_millas = distancia_km * 0.621\n",
    "print(abs(distancia_millas))"
   ]
  }
 ],
 "metadata": {
  "interpreter": {
   "hash": "f7ef9b8383875f3bc6e9a040f9add338d4e4ca5c3a14fe1e84d7cb00697549c1"
  },
  "kernelspec": {
   "display_name": "Python 3.10.2 64-bit",
   "language": "python",
   "name": "python3"
  },
  "language_info": {
   "codemirror_mode": {
    "name": "ipython",
    "version": 3
   },
   "file_extension": ".py",
   "mimetype": "text/x-python",
   "name": "python",
   "nbconvert_exporter": "python",
   "pygments_lexer": "ipython3",
   "version": "3.10.2"
  },
  "orig_nbformat": 4
 },
 "nbformat": 4,
 "nbformat_minor": 2
}
