{
 "cells": [
  {
   "cell_type": "markdown",
   "metadata": {},
   "source": [
    "### Ejercicio 1: Transformar cadenas\n"
   ]
  },
  {
   "cell_type": "code",
   "execution_count": 29,
   "metadata": {},
   "outputs": [
    {
     "name": "stdout",
     "output_type": "stream",
     "text": [
      "['Interesting facts about the Moon', \" The Moon is Earth's only satellite\", ' \\nThere are several interesting facts about the Moon and how it affects life here on Earth', ' \\nOn average, the Moon moves 4cm away from the Earth every year', ' \\nThis yearly drift is not significant enough to cause immediate effects on Earth', ' \\nThe highest daylight temperature of the Moon is 127 C', '']\n",
      " \n",
      "On average, the Moon moves 4cm away from the Earth every year\n",
      " \n",
      "The highest daylight temperature of the Moon is 127 C\n",
      " \n",
      "On average, the Moon moves 4Celsiusm away from the Earth every year\n",
      " \n",
      "The highest daylight temperature of the Moon is 127 C\n"
     ]
    }
   ],
   "source": [
    "\n",
    "text = \"\"\"Interesting facts about the Moon. The Moon is Earth's only satellite. \n",
    "There are several interesting facts about the Moon and how it affects life here on Earth. \n",
    "On average, the Moon moves 4cm away from the Earth every year. \n",
    "This yearly drift is not significant enough to cause immediate effects on Earth. \n",
    "The highest daylight temperature of the Moon is 127 C.\"\"\"\n",
    "text = text.split('.')\n",
    "print(text) \n",
    "\n",
    "frases = [\"average\", \"temperature\", \"distance\"]\n",
    "\n",
    "for oracion in text:\n",
    "    for palabra in frases:\n",
    "        if palabra in oracion:\n",
    "            print(oracion)\n",
    "            break\n",
    "\n",
    "for oracion in text:\n",
    "    for palabra in frases:\n",
    "        if palabra in oracion:\n",
    "            print(oracion.replace('c', 'Celsius'))\n",
    "            break\n"
   ]
  },
  {
   "cell_type": "markdown",
   "metadata": {},
   "source": [
    "### Ejercicio 2: Formateando Cadenas\n"
   ]
  },
  {
   "cell_type": "code",
   "execution_count": 17,
   "metadata": {},
   "outputs": [
    {
     "name": "stdout",
     "output_type": "stream",
     "text": [
      "datos de gravedad sobre luna  \n",
      "name del planeta: Tierra \n",
      "gravedad en luna: 1.6199999999999999 m/s2 \n",
      "\n",
      "Datos de gravedad sobre: Ganimedes\n",
      "-------------------------------------------------------------------------------\n",
      "name del planeta: Marte \n",
      "gravedad en Ganimedes: 1.4300000000000002 m/s2\n",
      "\n"
     ]
    }
   ],
   "source": [
    "name = 'luna'\n",
    "gravedad = 0.00162 #km\n",
    "planeta = 'Tierra'\n",
    "\n",
    "titulo = f'datos de gravedad sobre {name} '\n",
    "\n",
    "hechos = f\"\"\"{titulo} \n",
    "name del planeta: {planeta} \n",
    "gravedad en {name}: {gravedad * 1000} m/s2 \"\"\"\n",
    "\n",
    "plantilla = f\"\"\"{titulo.title()} \n",
    "{hechos} \n",
    "\"\"\" \n",
    "print(hechos)\n",
    "\n",
    "planeta = 'Marte '\n",
    "gravedad  = 0.00143\n",
    "name = 'Ganimedes'\n",
    "\n",
    "nuevaplantilla = \"\"\"\n",
    "Datos de gravedad sobre: {name}\n",
    "-------------------------------------------------------------------------------\n",
    "name del planeta: {planeta}\n",
    "gravedad en {name}: {gravedad} m/s2\n",
    "\"\"\"\n",
    "print(nuevaplantilla.format(name=name, planeta=planeta, gravedad=gravedad*1000))"
   ]
  }
 ],
 "metadata": {
  "interpreter": {
   "hash": "f7ef9b8383875f3bc6e9a040f9add338d4e4ca5c3a14fe1e84d7cb00697549c1"
  },
  "kernelspec": {
   "display_name": "Python 3.10.2 64-bit",
   "language": "python",
   "name": "python3"
  },
  "language_info": {
   "codemirror_mode": {
    "name": "ipython",
    "version": 3
   },
   "file_extension": ".py",
   "mimetype": "text/x-python",
   "name": "python",
   "nbconvert_exporter": "python",
   "pygments_lexer": "ipython3",
   "version": "3.10.2"
  },
  "orig_nbformat": 4
 },
 "nbformat": 4,
 "nbformat_minor": 2
}
