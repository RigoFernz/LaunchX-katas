{
 "cells": [
  {
   "cell_type": "markdown",
   "metadata": {},
   "source": [
    "## Problema 1"
   ]
  },
  {
   "cell_type": "code",
   "execution_count": 1,
   "metadata": {},
   "outputs": [
    {
     "name": "stdout",
     "output_type": "stream",
     "text": [
      "¡Cuidado un asteroide a gran velocidad!\n"
     ]
    }
   ],
   "source": [
    "asteroide = 49\n",
    "\n",
    "if asteroide >= 25:\n",
    " print(\"¡Cuidado un asteroide a gran velocidad!\")\n",
    "else:\n",
    " print(\"No pasa nada\")"
   ]
  },
  {
   "cell_type": "markdown",
   "metadata": {},
   "source": [
    "## Problema 2"
   ]
  },
  {
   "cell_type": "code",
   "execution_count": 10,
   "metadata": {},
   "outputs": [
    {
     "name": "stdout",
     "output_type": "stream",
     "text": [
      "No pasa nada\n"
     ]
    }
   ],
   "source": [
    "asteroide = 19\n",
    "\n",
    "if asteroide > 20:\n",
    "    print(\"Hay un rayo de luz\")\n",
    "elif asteroide == 20:\n",
    "    print(\"Hay un rayo de luz\")\n",
    "else:\n",
    "    print(\"No pasa nada\")"
   ]
  },
  {
   "cell_type": "markdown",
   "metadata": {},
   "source": [
    "## Problema 3"
   ]
  },
  {
   "cell_type": "code",
   "execution_count": 11,
   "metadata": {},
   "outputs": [
    {
     "name": "stdout",
     "output_type": "stream",
     "text": [
      "Hay un rayo de luz en el cielo\n"
     ]
    }
   ],
   "source": [
    "velo_astero = 25\n",
    "tamaño_astero = 40\n",
    "\n",
    "if velo_astero > 25 and tamaño_astero > 25:\n",
    "    print(\"Alerta, hay un asteroide que se dirije a la tierra\")\n",
    "elif velo_astero >= 20:\n",
    "    print(\"Hay un rayo de luz en el cielo\")\n",
    "elif tamaño_astero  < 25:\n",
    "    print(\"No pasa nada\")\n",
    "else:\n",
    "    print(\"No pasa nada\")"
   ]
  }
 ],
 "metadata": {
  "interpreter": {
   "hash": "d89935a7800d2bafc73e55ca7c0edb78bdb2698f250f89d338114ce43e3254b9"
  },
  "kernelspec": {
   "display_name": "Python 3.9.10 64-bit (windows store)",
   "language": "python",
   "name": "python3"
  },
  "language_info": {
   "codemirror_mode": {
    "name": "ipython",
    "version": 3
   },
   "file_extension": ".py",
   "mimetype": "text/x-python",
   "name": "python",
   "nbconvert_exporter": "python",
   "pygments_lexer": "ipython3",
   "version": "3.10.2"
  },
  "orig_nbformat": 4
 },
 "nbformat": 4,
 "nbformat_minor": 2
}
