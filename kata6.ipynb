{
 "cells": [
  {
   "cell_type": "markdown",
   "metadata": {},
   "source": [
    "### Ejercicio1: Crear y usar listas de Python\n"
   ]
  },
  {
   "cell_type": "code",
   "execution_count": 5,
   "metadata": {},
   "outputs": [
    {
     "name": "stdout",
     "output_type": "stream",
     "text": [
      "hay 8 planetas en el sistema solar\n",
      "añadiendo a pluton existen 9 planetas en el sistema solar\n"
     ]
    }
   ],
   "source": [
    "# Creamos la lista planets y la mostramos\n",
    "planetas = ['mercurio', 'venus', 'tierra', 'marte', 'jupiter', 'saturno', 'urano', 'neptuno']\n",
    "print( 'hay', len(planetas), 'planetas en el sistema solar')\n",
    "# Agregamos a plutón y mostramos el último elemento\n",
    "planetas.append('pluton')\n",
    "print('añadiendo a', planetas[-1], 'existen', len(planetas), 'planetas en el sistema solar')\n"
   ]
  },
  {
   "cell_type": "markdown",
   "metadata": {},
   "source": [
    "### Ejercicio 2: Trabajando con datos de una lista\n"
   ]
  },
  {
   "cell_type": "code",
   "execution_count": 12,
   "metadata": {},
   "outputs": [
    {
     "name": "stdout",
     "output_type": "stream",
     "text": [
      "los planetas más cercanos al sol ['mercurio', 'venus', 'tierra', 'marte']\n",
      "los planetas más cercanos al sol ['saturno', 'urano', 'neptuno']\n"
     ]
    }
   ],
   "source": [
    "# Lista de planetas\n",
    "planetas = ['mercurio', 'venus', 'tierra', 'marte', 'jupiter', 'saturno', 'urano', 'neptuno']\n",
    "# Solicitamos el nombre de un planeta *Pista:  input()*\n",
    "nombre = input('nombre del planeta')\n",
    "# Busca el planeta en la lista\n",
    "busca = planetas.index(nombre)\n",
    "# Muestra los planetas más cercanos al sol\n",
    "cercanos = planetas[0:busca]\n",
    "print('los planetas más cercanos al sol', cercanos)\n",
    "# Muestra los planetas más lejanos al sol\n",
    "lejanos = planetas[busca + 1:]\n",
    "print('los planetas más cercanos al sol', lejanos)\n",
    "\n"
   ]
  }
 ],
 "metadata": {
  "interpreter": {
   "hash": "f7ef9b8383875f3bc6e9a040f9add338d4e4ca5c3a14fe1e84d7cb00697549c1"
  },
  "kernelspec": {
   "display_name": "Python 3.10.2 64-bit",
   "language": "python",
   "name": "python3"
  },
  "language_info": {
   "codemirror_mode": {
    "name": "ipython",
    "version": 3
   },
   "file_extension": ".py",
   "mimetype": "text/x-python",
   "name": "python",
   "nbconvert_exporter": "python",
   "pygments_lexer": "ipython3",
   "version": "3.10.2"
  },
  "orig_nbformat": 4
 },
 "nbformat": 4,
 "nbformat_minor": 2
}
